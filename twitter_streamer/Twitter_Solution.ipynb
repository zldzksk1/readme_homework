{
 "cells": [
  {
   "cell_type": "markdown",
   "metadata": {},
   "source": [
    "Use `pip` to install `twitter`."
   ]
  },
  {
   "cell_type": "code",
   "execution_count": 1,
   "metadata": {},
   "outputs": [
    {
     "name": "stdout",
     "output_type": "stream",
     "text": [
      "Collecting boto\n",
      "  Downloading https://files.pythonhosted.org/packages/23/10/c0b78c27298029e4454a472a1919bde20cb182dab1662cec7f2ca1dcc523/boto-2.49.0-py2.py3-none-any.whl (1.4MB)\n",
      "\u001b[K    100% |████████████████████████████████| 1.4MB 1.0MB/s ta 0:00:01\n",
      "\u001b[?25hInstalling collected packages: boto\n",
      "Successfully installed boto-2.49.0\n",
      "\u001b[33mYou are using pip version 9.0.1, however version 10.0.1 is available.\n",
      "You should consider upgrading via the 'pip install --upgrade pip' command.\u001b[0m\n"
     ]
    }
   ],
   "source": [
    "!pip install boto"
   ]
  },
  {
   "cell_type": "markdown",
   "metadata": {},
   "source": [
    "Import `TwitterStream` and `OAuth` from `twitter`."
   ]
  },
  {
   "cell_type": "code",
   "execution_count": 2,
   "metadata": {},
   "outputs": [],
   "source": [
    "from twitter import TwitterStream\n",
    "from twitter import OAuth"
   ]
  },
  {
   "cell_type": "markdown",
   "metadata": {},
   "source": [
    "### `oauth`"
   ]
  },
  {
   "cell_type": "markdown",
   "metadata": {},
   "source": [
    "Create a new object called `oauth` using `OAuth`. \n",
    "\n",
    "    OAuth(token, token_secret, consumer_key, consumer_secret)"
   ]
  },
  {
   "cell_type": "code",
   "execution_count": 13,
   "metadata": {},
   "outputs": [],
   "source": [
    "token           = None\n",
    "token_secret    = None\n",
    "consumer_key    = None\n",
    "consumer_secret = None"
   ]
  },
  {
   "cell_type": "code",
   "execution_count": 14,
   "metadata": {},
   "outputs": [],
   "source": [
    "oauth = OAuth(token, token_secret, consumer_key, consumer_secret)"
   ]
  },
  {
   "cell_type": "markdown",
   "metadata": {},
   "source": [
    "Create a new object called `twitter_stream` using `TwitterStream`.\n",
    "\n",
    "Use the argument `auth=oauth` referencing the `oauth` object you just made."
   ]
  },
  {
   "cell_type": "markdown",
   "metadata": {},
   "source": [
    "### `twitter_stream`"
   ]
  },
  {
   "cell_type": "code",
   "execution_count": 15,
   "metadata": {},
   "outputs": [],
   "source": [
    "twitter_stream = TwitterStream(auth=oauth)"
   ]
  },
  {
   "cell_type": "markdown",
   "metadata": {},
   "source": [
    "### `bounding_box`"
   ]
  },
  {
   "cell_type": "markdown",
   "metadata": {},
   "source": [
    "Create a string called `bounding_box`. The string should contain the geo-coordinates of a bounding box separated by commas. These values are for Santa Monica:\n",
    "\n",
    "    -118.5137323688,34.0001996344,-118.4702449172,34.0331651696\n",
    "    \n",
    "You can make your own here: https://boundingbox.klokantech.com. Be sure to specify CSV RAW to get the values in this format.\n",
    "\n",
    "![](https://www.evernote.com/l/AAH3H9KGE6hD9JpPJPFncw09exRyoYSid5IB/image.png)"
   ]
  },
  {
   "cell_type": "code",
   "execution_count": 16,
   "metadata": {},
   "outputs": [],
   "source": [
    "bounding_box = \"-118.5137323688,34.0001996344,-118.4702449172,34.0331651696\""
   ]
  },
  {
   "cell_type": "markdown",
   "metadata": {},
   "source": [
    "### `tweet_iterator`\n",
    "\n",
    "Create an object called `tweet_iterator`. \n",
    "\n",
    "1. Use `twitter_stream`.\n",
    "1. Apply `.statuses` to grab statuses.\n",
    "1. Apply a `.filter()` with the argument `locations=bounding_box`."
   ]
  },
  {
   "cell_type": "code",
   "execution_count": 17,
   "metadata": {},
   "outputs": [],
   "source": [
    "tweet_iterator = twitter_stream.statuses.filter(locations=bounding_box)"
   ]
  },
  {
   "cell_type": "markdown",
   "metadata": {},
   "source": [
    "Get the next value from the `tweet_iterator` and store it as the variable `this_tweet`."
   ]
  },
  {
   "cell_type": "code",
   "execution_count": 18,
   "metadata": {},
   "outputs": [],
   "source": [
    "this_tweet = next(tweet_iterator)"
   ]
  },
  {
   "cell_type": "markdown",
   "metadata": {},
   "source": [
    "\n",
    "What is the type of `this_tweet`?"
   ]
  },
  {
   "cell_type": "code",
   "execution_count": null,
   "metadata": {},
   "outputs": [],
   "source": []
  },
  {
   "cell_type": "markdown",
   "metadata": {},
   "source": [
    "Display the keys of `this_tweet`."
   ]
  },
  {
   "cell_type": "code",
   "execution_count": 19,
   "metadata": {},
   "outputs": [
    {
     "data": {
      "text/plain": [
       "dict_keys(['created_at', 'id', 'id_str', 'text', 'source', 'truncated', 'in_reply_to_status_id', 'in_reply_to_status_id_str', 'in_reply_to_user_id', 'in_reply_to_user_id_str', 'in_reply_to_screen_name', 'user', 'geo', 'coordinates', 'place', 'contributors', 'is_quote_status', 'quote_count', 'reply_count', 'retweet_count', 'favorite_count', 'entities', 'favorited', 'retweeted', 'filter_level', 'lang', 'timestamp_ms'])"
      ]
     },
     "execution_count": 19,
     "metadata": {},
     "output_type": "execute_result"
    }
   ],
   "source": [
    "this_tweet.keys()"
   ]
  },
  {
   "cell_type": "markdown",
   "metadata": {},
   "source": [
    "Display the `text` and `user` of `this_tweet`."
   ]
  },
  {
   "cell_type": "code",
   "execution_count": 20,
   "metadata": {},
   "outputs": [
    {
     "data": {
      "text/plain": [
       "'Yoo they better have a Banda at this quince 😤'"
      ]
     },
     "execution_count": 20,
     "metadata": {},
     "output_type": "execute_result"
    }
   ],
   "source": [
    "this_tweet['text']"
   ]
  },
  {
   "cell_type": "code",
   "execution_count": 21,
   "metadata": {},
   "outputs": [
    {
     "data": {
      "text/plain": [
       "{'id': 565722663,\n",
       " 'id_str': '565722663',\n",
       " 'name': 'VaSh',\n",
       " 'screen_name': 'alexeatspeople3',\n",
       " 'location': 'Illinois, USA',\n",
       " 'url': None,\n",
       " 'description': 'work. 3 dogs. a lil skatin. 21 . boolin',\n",
       " 'translator_type': 'none',\n",
       " 'protected': False,\n",
       " 'verified': False,\n",
       " 'followers_count': 489,\n",
       " 'friends_count': 490,\n",
       " 'listed_count': 1,\n",
       " 'favourites_count': 9589,\n",
       " 'statuses_count': 18816,\n",
       " 'created_at': 'Sat Apr 28 18:24:14 +0000 2012',\n",
       " 'utc_offset': None,\n",
       " 'time_zone': None,\n",
       " 'geo_enabled': True,\n",
       " 'lang': 'en',\n",
       " 'contributors_enabled': False,\n",
       " 'is_translator': False,\n",
       " 'profile_background_color': 'C0DEED',\n",
       " 'profile_background_image_url': 'http://abs.twimg.com/images/themes/theme1/bg.png',\n",
       " 'profile_background_image_url_https': 'https://abs.twimg.com/images/themes/theme1/bg.png',\n",
       " 'profile_background_tile': False,\n",
       " 'profile_link_color': '1DA1F2',\n",
       " 'profile_sidebar_border_color': 'C0DEED',\n",
       " 'profile_sidebar_fill_color': 'DDEEF6',\n",
       " 'profile_text_color': '333333',\n",
       " 'profile_use_background_image': True,\n",
       " 'profile_image_url': 'http://pbs.twimg.com/profile_images/1020693406165504005/AHS6Cxq1_normal.jpg',\n",
       " 'profile_image_url_https': 'https://pbs.twimg.com/profile_images/1020693406165504005/AHS6Cxq1_normal.jpg',\n",
       " 'profile_banner_url': 'https://pbs.twimg.com/profile_banners/565722663/1531507286',\n",
       " 'default_profile': True,\n",
       " 'default_profile_image': False,\n",
       " 'following': None,\n",
       " 'follow_request_sent': None,\n",
       " 'notifications': None}"
      ]
     },
     "execution_count": 21,
     "metadata": {},
     "output_type": "execute_result"
    }
   ],
   "source": [
    "this_tweet['user']"
   ]
  },
  {
   "cell_type": "markdown",
   "metadata": {},
   "source": [
    "## Collect Tweets\n",
    "\n",
    "Create an empty list called `tweets`.\n",
    "\n",
    "Use a `for`-loop to collect ten tweets and add them to this list."
   ]
  },
  {
   "cell_type": "code",
   "execution_count": 22,
   "metadata": {},
   "outputs": [],
   "source": [
    "tweets = []\n",
    "for _ in range(10):\n",
    "    tweets.append(next(tweet_iterator))"
   ]
  },
  {
   "cell_type": "markdown",
   "metadata": {},
   "source": [
    "Display `tweets` in a DataFrame."
   ]
  },
  {
   "cell_type": "code",
   "execution_count": 23,
   "metadata": {},
   "outputs": [],
   "source": [
    "import pandas as pd"
   ]
  },
  {
   "cell_type": "markdown",
   "metadata": {},
   "source": [
    "Display just the test of the tweets using DataFrame."
   ]
  },
  {
   "cell_type": "code",
   "execution_count": 24,
   "metadata": {},
   "outputs": [
    {
     "data": {
      "text/plain": [
       "0    Can’t wait to go home and play video games alr...\n",
       "1    Happy caturday!!! Ostara says hi 🌺\\n\\n#caturda...\n",
       "2    I love Bobby Wahl and 100% believe he has a br...\n",
       "3    Self love is the greatest middle finger of all...\n",
       "4        @gator_hater77 @leestarr4 Are they there now?\n",
       "5    JUST USED #NIVEA TO WIPE DOWN MY TV LMFAO #ITI...\n",
       "6    america  and soviet union...\\n\\nCOLLUSION...TH...\n",
       "7    Someone’s “0” has got to GO!!! #UsykGassiev #u...\n",
       "8    Its going to be a Unique day at Magic Mountain...\n",
       "9    #KillingEve is good in so many ways I can’t ev...\n",
       "Name: text, dtype: object"
      ]
     },
     "execution_count": 24,
     "metadata": {},
     "output_type": "execute_result"
    }
   ],
   "source": [
    "pd.DataFrame(tweets).text"
   ]
  },
  {
   "cell_type": "markdown",
   "metadata": {},
   "source": [
    "What is the type of `tweets`?"
   ]
  },
  {
   "cell_type": "code",
   "execution_count": 25,
   "metadata": {},
   "outputs": [
    {
     "data": {
      "text/plain": [
       "list"
      ]
     },
     "execution_count": 25,
     "metadata": {},
     "output_type": "execute_result"
    }
   ],
   "source": [
    "type(tweets)"
   ]
  },
  {
   "cell_type": "markdown",
   "metadata": {},
   "source": [
    "Write a list comprehension to display the type of each of the objects in `tweets`."
   ]
  },
  {
   "cell_type": "code",
   "execution_count": 26,
   "metadata": {},
   "outputs": [
    {
     "data": {
      "text/plain": [
       "[twitter.api.TwitterDictResponse,\n",
       " twitter.api.TwitterDictResponse,\n",
       " twitter.api.TwitterDictResponse,\n",
       " twitter.api.TwitterDictResponse,\n",
       " twitter.api.TwitterDictResponse,\n",
       " twitter.api.TwitterDictResponse,\n",
       " twitter.api.TwitterDictResponse,\n",
       " twitter.api.TwitterDictResponse,\n",
       " twitter.api.TwitterDictResponse,\n",
       " twitter.api.TwitterDictResponse]"
      ]
     },
     "execution_count": 26,
     "metadata": {},
     "output_type": "execute_result"
    }
   ],
   "source": [
    "[type(tw) for tw in tweets]"
   ]
  },
  {
   "cell_type": "markdown",
   "metadata": {},
   "source": [
    "Import the `json` library."
   ]
  },
  {
   "cell_type": "code",
   "execution_count": 27,
   "metadata": {},
   "outputs": [],
   "source": [
    "import json"
   ]
  },
  {
   "cell_type": "markdown",
   "metadata": {},
   "source": [
    "Create an object called `tweets_string` using `json.dumps()`.\n",
    "\n",
    "Display the first 500 characters of this string. "
   ]
  },
  {
   "cell_type": "code",
   "execution_count": 28,
   "metadata": {},
   "outputs": [
    {
     "data": {
      "text/plain": [
       "'[{\"created_at\": \"Sat Jul 21 20:58:43 +0000 2018\", \"id\": 1020775097898917888, \"id_str\": \"1020775097898917888\", \"text\": \"Can\\\\u2019t wait to go home and play video games already smh\", \"source\": \"<a href=\\\\\"http://twitter.com/download/iphone\\\\\" rel=\\\\\"nofollow\\\\\">Twitter for iPhone</a>\", \"truncated\": false, \"in_reply_to_status_id\": null, \"in_reply_to_status_id_str\": null, \"in_reply_to_user_id\": null, \"in_reply_to_user_id_str\": null, \"in_reply_to_screen_name\": null, \"user\": {\"id\": 3096943027, \"id_str\": \"'"
      ]
     },
     "execution_count": 28,
     "metadata": {},
     "output_type": "execute_result"
    }
   ],
   "source": [
    "json.dumps(tweets)[:500]"
   ]
  },
  {
   "cell_type": "markdown",
   "metadata": {},
   "source": [
    "## Write Tweets to Disk\n",
    "\n",
    "Using this pattern\n",
    "\n",
    "    with open(filename_as_string, 'w') as outfile:\n",
    "        json.dump(python_object, outfile)\n",
    "        \n",
    "write `tweets` to disk as json."
   ]
  },
  {
   "cell_type": "code",
   "execution_count": 32,
   "metadata": {},
   "outputs": [],
   "source": [
    "from datetime import datetime\n",
    "\n",
    "def get_timestamp():\n",
    "    timestamp_str = str(datetime.now())\n",
    "    timestamp_str = (timestamp_str.replace(' ', '_')\n",
    "                                  .replace('.', '-')\n",
    "                                  .replace(':', '-'))\n",
    "    return timestamp_str\n",
    "\n",
    "user = 'joshua'\n",
    "\n",
    "testfile = \"tweets-\" + user + '-' + get_timestamp() + \".json\""
   ]
  },
  {
   "cell_type": "code",
   "execution_count": 33,
   "metadata": {},
   "outputs": [],
   "source": [
    "with open(testfile, 'w') as outfile:\n",
    "    json.dump(tweets, outfile)"
   ]
  },
  {
   "cell_type": "markdown",
   "metadata": {},
   "source": [
    "## Read Tweets from Disk\n",
    "\n",
    "Using this pattern\n",
    "\n",
    "    with open(filename_as_string) as infile:\n",
    "        json_data=infile.read()\n",
    "        python_object_from_disk = json.loads(json_data)\n",
    "        \n",
    "read the tweets from the json. Store them as `tweets_from_disk`."
   ]
  },
  {
   "cell_type": "code",
   "execution_count": 34,
   "metadata": {},
   "outputs": [],
   "source": [
    "with open('data.json') as infile:\n",
    "    json_data=infile.read()\n",
    "    tweets_from_disk = json.loads(json_data)"
   ]
  },
  {
   "cell_type": "markdown",
   "metadata": {},
   "source": [
    "Display `tweets_from_disk` as a DataFrame."
   ]
  },
  {
   "cell_type": "code",
   "execution_count": 35,
   "metadata": {
    "scrolled": false
   },
   "outputs": [
    {
     "data": {
      "text/html": [
       "<div>\n",
       "<style scoped>\n",
       "    .dataframe tbody tr th:only-of-type {\n",
       "        vertical-align: middle;\n",
       "    }\n",
       "\n",
       "    .dataframe tbody tr th {\n",
       "        vertical-align: top;\n",
       "    }\n",
       "\n",
       "    .dataframe thead th {\n",
       "        text-align: right;\n",
       "    }\n",
       "</style>\n",
       "<table border=\"1\" class=\"dataframe\">\n",
       "  <thead>\n",
       "    <tr style=\"text-align: right;\">\n",
       "      <th></th>\n",
       "      <th>contributors</th>\n",
       "      <th>coordinates</th>\n",
       "      <th>created_at</th>\n",
       "      <th>display_text_range</th>\n",
       "      <th>entities</th>\n",
       "      <th>extended_entities</th>\n",
       "      <th>extended_tweet</th>\n",
       "      <th>favorite_count</th>\n",
       "      <th>favorited</th>\n",
       "      <th>filter_level</th>\n",
       "      <th>...</th>\n",
       "      <th>quoted_status_id_str</th>\n",
       "      <th>quoted_status_permalink</th>\n",
       "      <th>reply_count</th>\n",
       "      <th>retweet_count</th>\n",
       "      <th>retweeted</th>\n",
       "      <th>source</th>\n",
       "      <th>text</th>\n",
       "      <th>timestamp_ms</th>\n",
       "      <th>truncated</th>\n",
       "      <th>user</th>\n",
       "    </tr>\n",
       "  </thead>\n",
       "  <tbody>\n",
       "    <tr>\n",
       "      <th>0</th>\n",
       "      <td>None</td>\n",
       "      <td>None</td>\n",
       "      <td>Sat Jul 21 20:58:43 +0000 2018</td>\n",
       "      <td>NaN</td>\n",
       "      <td>{'hashtags': [], 'urls': [], 'user_mentions': ...</td>\n",
       "      <td>NaN</td>\n",
       "      <td>NaN</td>\n",
       "      <td>0</td>\n",
       "      <td>False</td>\n",
       "      <td>low</td>\n",
       "      <td>...</td>\n",
       "      <td>NaN</td>\n",
       "      <td>NaN</td>\n",
       "      <td>0</td>\n",
       "      <td>0</td>\n",
       "      <td>False</td>\n",
       "      <td>&lt;a href=\"http://twitter.com/download/iphone\" r...</td>\n",
       "      <td>Can’t wait to go home and play video games alr...</td>\n",
       "      <td>1532206723080</td>\n",
       "      <td>False</td>\n",
       "      <td>{'id': 3096943027, 'id_str': '3096943027', 'na...</td>\n",
       "    </tr>\n",
       "    <tr>\n",
       "      <th>1</th>\n",
       "      <td>None</td>\n",
       "      <td>{'type': 'Point', 'coordinates': [-118.243, 34...</td>\n",
       "      <td>Sat Jul 21 20:58:47 +0000 2018</td>\n",
       "      <td>NaN</td>\n",
       "      <td>{'hashtags': [{'text': 'caturday', 'indices': ...</td>\n",
       "      <td>NaN</td>\n",
       "      <td>{'full_text': 'Happy caturday!!! Ostara says h...</td>\n",
       "      <td>0</td>\n",
       "      <td>False</td>\n",
       "      <td>low</td>\n",
       "      <td>...</td>\n",
       "      <td>NaN</td>\n",
       "      <td>NaN</td>\n",
       "      <td>0</td>\n",
       "      <td>0</td>\n",
       "      <td>False</td>\n",
       "      <td>&lt;a href=\"http://instagram.com\" rel=\"nofollow\"&gt;...</td>\n",
       "      <td>Happy caturday!!! Ostara says hi 🌺\\n\\n#caturda...</td>\n",
       "      <td>1532206727624</td>\n",
       "      <td>True</td>\n",
       "      <td>{'id': 516796900, 'id_str': '516796900', 'name...</td>\n",
       "    </tr>\n",
       "    <tr>\n",
       "      <th>2</th>\n",
       "      <td>None</td>\n",
       "      <td>None</td>\n",
       "      <td>Sat Jul 21 20:58:49 +0000 2018</td>\n",
       "      <td>NaN</td>\n",
       "      <td>{'hashtags': [], 'urls': [{'url': 'https://t.c...</td>\n",
       "      <td>NaN</td>\n",
       "      <td>{'full_text': 'I love Bobby Wahl and 100% beli...</td>\n",
       "      <td>0</td>\n",
       "      <td>False</td>\n",
       "      <td>low</td>\n",
       "      <td>...</td>\n",
       "      <td>1020760369659367424</td>\n",
       "      <td>{'url': 'https://t.co/0H4QJCJm9u', 'expanded':...</td>\n",
       "      <td>0</td>\n",
       "      <td>0</td>\n",
       "      <td>False</td>\n",
       "      <td>&lt;a href=\"http://twitter.com/download/iphone\" r...</td>\n",
       "      <td>I love Bobby Wahl and 100% believe he has a br...</td>\n",
       "      <td>1532206729335</td>\n",
       "      <td>True</td>\n",
       "      <td>{'id': 360364324, 'id_str': '360364324', 'name...</td>\n",
       "    </tr>\n",
       "    <tr>\n",
       "      <th>3</th>\n",
       "      <td>None</td>\n",
       "      <td>None</td>\n",
       "      <td>Sat Jul 21 20:58:51 +0000 2018</td>\n",
       "      <td>NaN</td>\n",
       "      <td>{'hashtags': [], 'urls': [], 'user_mentions': ...</td>\n",
       "      <td>NaN</td>\n",
       "      <td>NaN</td>\n",
       "      <td>0</td>\n",
       "      <td>False</td>\n",
       "      <td>low</td>\n",
       "      <td>...</td>\n",
       "      <td>NaN</td>\n",
       "      <td>NaN</td>\n",
       "      <td>0</td>\n",
       "      <td>0</td>\n",
       "      <td>False</td>\n",
       "      <td>&lt;a href=\"http://twitter.com/download/iphone\" r...</td>\n",
       "      <td>Self love is the greatest middle finger of all...</td>\n",
       "      <td>1532206731700</td>\n",
       "      <td>False</td>\n",
       "      <td>{'id': 16259251, 'id_str': '16259251', 'name':...</td>\n",
       "    </tr>\n",
       "    <tr>\n",
       "      <th>4</th>\n",
       "      <td>None</td>\n",
       "      <td>None</td>\n",
       "      <td>Sat Jul 21 20:58:53 +0000 2018</td>\n",
       "      <td>[26, 45]</td>\n",
       "      <td>{'hashtags': [], 'urls': [], 'user_mentions': ...</td>\n",
       "      <td>NaN</td>\n",
       "      <td>NaN</td>\n",
       "      <td>0</td>\n",
       "      <td>False</td>\n",
       "      <td>low</td>\n",
       "      <td>...</td>\n",
       "      <td>NaN</td>\n",
       "      <td>NaN</td>\n",
       "      <td>0</td>\n",
       "      <td>0</td>\n",
       "      <td>False</td>\n",
       "      <td>&lt;a href=\"http://twitter.com/download/android\" ...</td>\n",
       "      <td>@gator_hater77 @leestarr4 Are they there now?</td>\n",
       "      <td>1532206733607</td>\n",
       "      <td>False</td>\n",
       "      <td>{'id': 341913089, 'id_str': '341913089', 'name...</td>\n",
       "    </tr>\n",
       "    <tr>\n",
       "      <th>5</th>\n",
       "      <td>None</td>\n",
       "      <td>None</td>\n",
       "      <td>Sat Jul 21 20:59:00 +0000 2018</td>\n",
       "      <td>NaN</td>\n",
       "      <td>{'hashtags': [{'text': 'NIVEA', 'indices': [10...</td>\n",
       "      <td>NaN</td>\n",
       "      <td>NaN</td>\n",
       "      <td>0</td>\n",
       "      <td>False</td>\n",
       "      <td>low</td>\n",
       "      <td>...</td>\n",
       "      <td>NaN</td>\n",
       "      <td>NaN</td>\n",
       "      <td>0</td>\n",
       "      <td>0</td>\n",
       "      <td>False</td>\n",
       "      <td>&lt;a href=\"http://twitter.com/download/iphone\" r...</td>\n",
       "      <td>JUST USED #NIVEA TO WIPE DOWN MY TV LMFAO #ITI...</td>\n",
       "      <td>1532206740181</td>\n",
       "      <td>False</td>\n",
       "      <td>{'id': 794106780506669056, 'id_str': '79410678...</td>\n",
       "    </tr>\n",
       "    <tr>\n",
       "      <th>6</th>\n",
       "      <td>None</td>\n",
       "      <td>None</td>\n",
       "      <td>Sat Jul 21 20:59:01 +0000 2018</td>\n",
       "      <td>[0, 92]</td>\n",
       "      <td>{'hashtags': [], 'urls': [], 'user_mentions': ...</td>\n",
       "      <td>{'media': [{'id': 1020775073001553920, 'id_str...</td>\n",
       "      <td>NaN</td>\n",
       "      <td>0</td>\n",
       "      <td>False</td>\n",
       "      <td>low</td>\n",
       "      <td>...</td>\n",
       "      <td>NaN</td>\n",
       "      <td>NaN</td>\n",
       "      <td>0</td>\n",
       "      <td>0</td>\n",
       "      <td>False</td>\n",
       "      <td>&lt;a href=\"http://twitter.com\" rel=\"nofollow\"&gt;Tw...</td>\n",
       "      <td>america  and soviet union...\\n\\nCOLLUSION...TH...</td>\n",
       "      <td>1532206741282</td>\n",
       "      <td>False</td>\n",
       "      <td>{'id': 909476079445843968, 'id_str': '90947607...</td>\n",
       "    </tr>\n",
       "    <tr>\n",
       "      <th>7</th>\n",
       "      <td>None</td>\n",
       "      <td>None</td>\n",
       "      <td>Sat Jul 21 20:59:02 +0000 2018</td>\n",
       "      <td>[0, 140]</td>\n",
       "      <td>{'hashtags': [{'text': 'UsykGassiev', 'indices...</td>\n",
       "      <td>NaN</td>\n",
       "      <td>{'full_text': 'Someone’s “0” has got to GO!!! ...</td>\n",
       "      <td>0</td>\n",
       "      <td>False</td>\n",
       "      <td>low</td>\n",
       "      <td>...</td>\n",
       "      <td>NaN</td>\n",
       "      <td>NaN</td>\n",
       "      <td>0</td>\n",
       "      <td>0</td>\n",
       "      <td>False</td>\n",
       "      <td>&lt;a href=\"http://twitter.com/download/iphone\" r...</td>\n",
       "      <td>Someone’s “0” has got to GO!!! #UsykGassiev #u...</td>\n",
       "      <td>1532206742331</td>\n",
       "      <td>True</td>\n",
       "      <td>{'id': 234832996, 'id_str': '234832996', 'name...</td>\n",
       "    </tr>\n",
       "    <tr>\n",
       "      <th>8</th>\n",
       "      <td>None</td>\n",
       "      <td>{'type': 'Point', 'coordinates': [-118.5958813...</td>\n",
       "      <td>Sat Jul 21 20:59:01 +0000 2018</td>\n",
       "      <td>NaN</td>\n",
       "      <td>{'hashtags': [{'text': 'uniqueenergydrink', 'i...</td>\n",
       "      <td>NaN</td>\n",
       "      <td>{'full_text': 'Its going to be a Unique day at...</td>\n",
       "      <td>0</td>\n",
       "      <td>False</td>\n",
       "      <td>low</td>\n",
       "      <td>...</td>\n",
       "      <td>NaN</td>\n",
       "      <td>NaN</td>\n",
       "      <td>0</td>\n",
       "      <td>0</td>\n",
       "      <td>False</td>\n",
       "      <td>&lt;a href=\"http://instagram.com\" rel=\"nofollow\"&gt;...</td>\n",
       "      <td>Its going to be a Unique day at Magic Mountain...</td>\n",
       "      <td>1532206741867</td>\n",
       "      <td>True</td>\n",
       "      <td>{'id': 359607478, 'id_str': '359607478', 'name...</td>\n",
       "    </tr>\n",
       "    <tr>\n",
       "      <th>9</th>\n",
       "      <td>None</td>\n",
       "      <td>None</td>\n",
       "      <td>Sat Jul 21 20:59:03 +0000 2018</td>\n",
       "      <td>NaN</td>\n",
       "      <td>{'hashtags': [{'text': 'KillingEve', 'indices'...</td>\n",
       "      <td>NaN</td>\n",
       "      <td>NaN</td>\n",
       "      <td>0</td>\n",
       "      <td>False</td>\n",
       "      <td>low</td>\n",
       "      <td>...</td>\n",
       "      <td>NaN</td>\n",
       "      <td>NaN</td>\n",
       "      <td>0</td>\n",
       "      <td>0</td>\n",
       "      <td>False</td>\n",
       "      <td>&lt;a href=\"http://twitter.com/download/iphone\" r...</td>\n",
       "      <td>#KillingEve is good in so many ways I can’t ev...</td>\n",
       "      <td>1532206743802</td>\n",
       "      <td>False</td>\n",
       "      <td>{'id': 175114195, 'id_str': '175114195', 'name...</td>\n",
       "    </tr>\n",
       "  </tbody>\n",
       "</table>\n",
       "<p>10 rows × 35 columns</p>\n",
       "</div>"
      ],
      "text/plain": [
       "  contributors                                        coordinates  \\\n",
       "0         None                                               None   \n",
       "1         None  {'type': 'Point', 'coordinates': [-118.243, 34...   \n",
       "2         None                                               None   \n",
       "3         None                                               None   \n",
       "4         None                                               None   \n",
       "5         None                                               None   \n",
       "6         None                                               None   \n",
       "7         None                                               None   \n",
       "8         None  {'type': 'Point', 'coordinates': [-118.5958813...   \n",
       "9         None                                               None   \n",
       "\n",
       "                       created_at display_text_range  \\\n",
       "0  Sat Jul 21 20:58:43 +0000 2018                NaN   \n",
       "1  Sat Jul 21 20:58:47 +0000 2018                NaN   \n",
       "2  Sat Jul 21 20:58:49 +0000 2018                NaN   \n",
       "3  Sat Jul 21 20:58:51 +0000 2018                NaN   \n",
       "4  Sat Jul 21 20:58:53 +0000 2018           [26, 45]   \n",
       "5  Sat Jul 21 20:59:00 +0000 2018                NaN   \n",
       "6  Sat Jul 21 20:59:01 +0000 2018            [0, 92]   \n",
       "7  Sat Jul 21 20:59:02 +0000 2018           [0, 140]   \n",
       "8  Sat Jul 21 20:59:01 +0000 2018                NaN   \n",
       "9  Sat Jul 21 20:59:03 +0000 2018                NaN   \n",
       "\n",
       "                                            entities  \\\n",
       "0  {'hashtags': [], 'urls': [], 'user_mentions': ...   \n",
       "1  {'hashtags': [{'text': 'caturday', 'indices': ...   \n",
       "2  {'hashtags': [], 'urls': [{'url': 'https://t.c...   \n",
       "3  {'hashtags': [], 'urls': [], 'user_mentions': ...   \n",
       "4  {'hashtags': [], 'urls': [], 'user_mentions': ...   \n",
       "5  {'hashtags': [{'text': 'NIVEA', 'indices': [10...   \n",
       "6  {'hashtags': [], 'urls': [], 'user_mentions': ...   \n",
       "7  {'hashtags': [{'text': 'UsykGassiev', 'indices...   \n",
       "8  {'hashtags': [{'text': 'uniqueenergydrink', 'i...   \n",
       "9  {'hashtags': [{'text': 'KillingEve', 'indices'...   \n",
       "\n",
       "                                   extended_entities  \\\n",
       "0                                                NaN   \n",
       "1                                                NaN   \n",
       "2                                                NaN   \n",
       "3                                                NaN   \n",
       "4                                                NaN   \n",
       "5                                                NaN   \n",
       "6  {'media': [{'id': 1020775073001553920, 'id_str...   \n",
       "7                                                NaN   \n",
       "8                                                NaN   \n",
       "9                                                NaN   \n",
       "\n",
       "                                      extended_tweet  favorite_count  \\\n",
       "0                                                NaN               0   \n",
       "1  {'full_text': 'Happy caturday!!! Ostara says h...               0   \n",
       "2  {'full_text': 'I love Bobby Wahl and 100% beli...               0   \n",
       "3                                                NaN               0   \n",
       "4                                                NaN               0   \n",
       "5                                                NaN               0   \n",
       "6                                                NaN               0   \n",
       "7  {'full_text': 'Someone’s “0” has got to GO!!! ...               0   \n",
       "8  {'full_text': 'Its going to be a Unique day at...               0   \n",
       "9                                                NaN               0   \n",
       "\n",
       "   favorited filter_level                        ...                          \\\n",
       "0      False          low                        ...                           \n",
       "1      False          low                        ...                           \n",
       "2      False          low                        ...                           \n",
       "3      False          low                        ...                           \n",
       "4      False          low                        ...                           \n",
       "5      False          low                        ...                           \n",
       "6      False          low                        ...                           \n",
       "7      False          low                        ...                           \n",
       "8      False          low                        ...                           \n",
       "9      False          low                        ...                           \n",
       "\n",
       "  quoted_status_id_str                            quoted_status_permalink  \\\n",
       "0                  NaN                                                NaN   \n",
       "1                  NaN                                                NaN   \n",
       "2  1020760369659367424  {'url': 'https://t.co/0H4QJCJm9u', 'expanded':...   \n",
       "3                  NaN                                                NaN   \n",
       "4                  NaN                                                NaN   \n",
       "5                  NaN                                                NaN   \n",
       "6                  NaN                                                NaN   \n",
       "7                  NaN                                                NaN   \n",
       "8                  NaN                                                NaN   \n",
       "9                  NaN                                                NaN   \n",
       "\n",
       "  reply_count retweet_count  retweeted  \\\n",
       "0           0             0      False   \n",
       "1           0             0      False   \n",
       "2           0             0      False   \n",
       "3           0             0      False   \n",
       "4           0             0      False   \n",
       "5           0             0      False   \n",
       "6           0             0      False   \n",
       "7           0             0      False   \n",
       "8           0             0      False   \n",
       "9           0             0      False   \n",
       "\n",
       "                                              source  \\\n",
       "0  <a href=\"http://twitter.com/download/iphone\" r...   \n",
       "1  <a href=\"http://instagram.com\" rel=\"nofollow\">...   \n",
       "2  <a href=\"http://twitter.com/download/iphone\" r...   \n",
       "3  <a href=\"http://twitter.com/download/iphone\" r...   \n",
       "4  <a href=\"http://twitter.com/download/android\" ...   \n",
       "5  <a href=\"http://twitter.com/download/iphone\" r...   \n",
       "6  <a href=\"http://twitter.com\" rel=\"nofollow\">Tw...   \n",
       "7  <a href=\"http://twitter.com/download/iphone\" r...   \n",
       "8  <a href=\"http://instagram.com\" rel=\"nofollow\">...   \n",
       "9  <a href=\"http://twitter.com/download/iphone\" r...   \n",
       "\n",
       "                                                text   timestamp_ms  \\\n",
       "0  Can’t wait to go home and play video games alr...  1532206723080   \n",
       "1  Happy caturday!!! Ostara says hi 🌺\\n\\n#caturda...  1532206727624   \n",
       "2  I love Bobby Wahl and 100% believe he has a br...  1532206729335   \n",
       "3  Self love is the greatest middle finger of all...  1532206731700   \n",
       "4      @gator_hater77 @leestarr4 Are they there now?  1532206733607   \n",
       "5  JUST USED #NIVEA TO WIPE DOWN MY TV LMFAO #ITI...  1532206740181   \n",
       "6  america  and soviet union...\\n\\nCOLLUSION...TH...  1532206741282   \n",
       "7  Someone’s “0” has got to GO!!! #UsykGassiev #u...  1532206742331   \n",
       "8  Its going to be a Unique day at Magic Mountain...  1532206741867   \n",
       "9  #KillingEve is good in so many ways I can’t ev...  1532206743802   \n",
       "\n",
       "   truncated                                               user  \n",
       "0      False  {'id': 3096943027, 'id_str': '3096943027', 'na...  \n",
       "1       True  {'id': 516796900, 'id_str': '516796900', 'name...  \n",
       "2       True  {'id': 360364324, 'id_str': '360364324', 'name...  \n",
       "3      False  {'id': 16259251, 'id_str': '16259251', 'name':...  \n",
       "4      False  {'id': 341913089, 'id_str': '341913089', 'name...  \n",
       "5      False  {'id': 794106780506669056, 'id_str': '79410678...  \n",
       "6      False  {'id': 909476079445843968, 'id_str': '90947607...  \n",
       "7       True  {'id': 234832996, 'id_str': '234832996', 'name...  \n",
       "8       True  {'id': 359607478, 'id_str': '359607478', 'name...  \n",
       "9      False  {'id': 175114195, 'id_str': '175114195', 'name...  \n",
       "\n",
       "[10 rows x 35 columns]"
      ]
     },
     "execution_count": 35,
     "metadata": {},
     "output_type": "execute_result"
    }
   ],
   "source": [
    "pd.DataFrame(tweets_from_disk)"
   ]
  },
  {
   "cell_type": "code",
   "execution_count": null,
   "metadata": {},
   "outputs": [],
   "source": []
  },
  {
   "cell_type": "code",
   "execution_count": null,
   "metadata": {},
   "outputs": [],
   "source": [
    "key"
   ]
  }
 ],
 "metadata": {
  "kernelspec": {
   "display_name": "Python 3",
   "language": "python",
   "name": "python3"
  },
  "language_info": {
   "codemirror_mode": {
    "name": "ipython",
    "version": 3
   },
   "file_extension": ".py",
   "mimetype": "text/x-python",
   "name": "python",
   "nbconvert_exporter": "python",
   "pygments_lexer": "ipython3",
   "version": "3.6.5"
  }
 },
 "nbformat": 4,
 "nbformat_minor": 2
}
