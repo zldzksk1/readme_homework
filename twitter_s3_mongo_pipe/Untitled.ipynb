{
 "cells": [
  {
   "cell_type": "code",
   "execution_count": 1,
   "metadata": {},
   "outputs": [],
   "source": [
    "import json"
   ]
  },
  {
   "cell_type": "code",
   "execution_count": 2,
   "metadata": {},
   "outputs": [],
   "source": [
    "with open(\"credentials.json\", 'r') as stream:\n",
    "        credentials = json.load(stream)"
   ]
  },
  {
   "cell_type": "code",
   "execution_count": 3,
   "metadata": {},
   "outputs": [
    {
     "data": {
      "text/plain": [
       "{'bounding_box': '-118.5137323688,34.0001996344,-118.4702449172,34.0331651696',\n",
       " 'credentials': {'token': '12270642-8ggOVEjcQ7DAP2VCCZbXYoRtiOf0rngzrsyb82h7k',\n",
       "  'token_secret': '85KnJJBbdvhZyGhOVLPwk47x2IAHaLEFGhNJdrHXo1Tv8',\n",
       "  'consumer_key': 'Jt9H3ve228Tl8yafi4Ip8Iwbw',\n",
       "  'consumer_secret': 'xXxkq7QM1D7K1w0tFKRIYYviS2EQ288jzbbiwzEYYRQrMyvCDN'},\n",
       " 'mongo': {'database': 'twitter', 'collection': 'tweets'},\n",
       " 'username': 'joshua',\n",
       " 's3_bucket': 'uclax-data-science'}"
      ]
     },
     "execution_count": 3,
     "metadata": {},
     "output_type": "execute_result"
    }
   ],
   "source": [
    "credentials"
   ]
  },
  {
   "cell_type": "code",
   "execution_count": null,
   "metadata": {},
   "outputs": [],
   "source": []
  }
 ],
 "metadata": {
  "kernelspec": {
   "display_name": "Python 3",
   "language": "python",
   "name": "python3"
  },
  "language_info": {
   "codemirror_mode": {
    "name": "ipython",
    "version": 3
   },
   "file_extension": ".py",
   "mimetype": "text/x-python",
   "name": "python",
   "nbconvert_exporter": "python",
   "pygments_lexer": "ipython3",
   "version": "3.6.5"
  }
 },
 "nbformat": 4,
 "nbformat_minor": 2
}
