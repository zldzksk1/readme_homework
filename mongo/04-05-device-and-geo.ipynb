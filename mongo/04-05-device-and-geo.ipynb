{
 "cells": [
  {
   "cell_type": "code",
   "execution_count": null,
   "metadata": {},
   "outputs": [],
   "source": [
    "import pandas as pd\n",
    "import random\n",
    "\n",
    "from mongo_aggregation_verbs import *\n",
    "\n",
    "from lib import create_mongo_client_to_database_collection\n",
    "\n",
    "collection_reference = create_mongo_client_to_database_collection('twitter', 'tweets')"
   ]
  },
  {
   "cell_type": "code",
   "execution_count": null,
   "metadata": {},
   "outputs": [],
   "source": [
    "INSTAGRAM = '<a href=\"http://instagram.com\" rel=\"nofollow\">Instagram</a>'\n",
    "source_is_instagram = { 'source' : INSTAGRAM }\n",
    "source_is_not_instagram = { 'source' : {'$ne' : INSTAGRAM } } "
   ]
  },
  {
   "cell_type": "code",
   "execution_count": null,
   "metadata": {},
   "outputs": [],
   "source": [
    "(collection_reference.count_documents(source_is_instagram),\n",
    " collection_reference.count_documents(source_is_not_instagram))"
   ]
  },
  {
   "cell_type": "markdown",
   "metadata": {},
   "source": [
    "## Tweet Locations"
   ]
  },
  {
   "cell_type": "code",
   "execution_count": null,
   "metadata": {},
   "outputs": [],
   "source": [
    "not_null = { '$ne' : None }\n",
    "nonnull_geo = {'geo' : not_null }\n",
    "keep_geo_and_text = { 'geo' : 1, 'text' : 1 , '_id' : 0}\n",
    "\n",
    "match_insta = {\n",
    "    MATCH : source_is_instagram\n",
    "}\n",
    "\n",
    "match_not_insta = {\n",
    "    MATCH : source_is_not_instagram\n",
    "}"
   ]
  },
  {
   "cell_type": "code",
   "execution_count": null,
   "metadata": {},
   "outputs": [],
   "source": [
    "cursor = collection_reference.aggregate([\n",
    "    { MATCH : source_is_instagram },\n",
    "    { MATCH : nonnull_geo},\n",
    "    { COUNT : \"geo\"}\n",
    "])\n",
    "next(cursor)"
   ]
  },
  {
   "cell_type": "code",
   "execution_count": null,
   "metadata": {},
   "outputs": [],
   "source": [
    "cursor = collection_reference.aggregate([\n",
    "    { MATCH : source_is_not_instagram },\n",
    "    { MATCH : nonnull_geo},\n",
    "    { COUNT : \"geo\"}\n",
    "])\n",
    "next(cursor)"
   ]
  },
  {
   "cell_type": "code",
   "execution_count": null,
   "metadata": {},
   "outputs": [],
   "source": [
    "def group_and_count(key):\n",
    "    return { GROUP : {\n",
    "                 \"_id\"   : key,\n",
    "                 \"count\" : { \"$sum\" : 1 }\n",
    "                }\n",
    "           }"
   ]
  },
  {
   "cell_type": "code",
   "execution_count": null,
   "metadata": {},
   "outputs": [],
   "source": [
    "def parse_geo_from_tweets(tweets):\n",
    "    tweets = pd.DataFrame(tweets)\n",
    "    geo = pd.DataFrame(list(tweets['_id'].values))\n",
    "    geo['count'] = tweets['count']\n",
    "    return geo"
   ]
  },
  {
   "cell_type": "code",
   "execution_count": null,
   "metadata": {},
   "outputs": [],
   "source": [
    "cursor = collection_reference.aggregate([\n",
    "    { MATCH : source_is_not_instagram },\n",
    "    { MATCH : nonnull_geo},\n",
    "    group_and_count('$geo'),\n",
    "    { MATCH : { \"count\" : { \"$gt\" : 1 } } }, \n",
    "    { SORT  : { \"count\" : -1 } }\n",
    "])\n",
    "not_insta = parse_geo_from_tweets(list(cursor))\n",
    "not_insta"
   ]
  },
  {
   "cell_type": "code",
   "execution_count": null,
   "metadata": {},
   "outputs": [],
   "source": [
    "cursor = collection_reference.aggregate([\n",
    "    { MATCH : source_is_instagram },\n",
    "    { MATCH : nonnull_geo},\n",
    "    group_and_count('$geo'),\n",
    "    { MATCH : { \"count\" : { \"$gt\" : 1 } } }, \n",
    "    { SORT  : { \"count\" : -1 } }\n",
    "])\n",
    "insta = parse_geo_from_tweets(list(cursor))\n",
    "insta"
   ]
  },
  {
   "cell_type": "code",
   "execution_count": null,
   "metadata": {},
   "outputs": [],
   "source": [
    "import folium\n",
    "starting_loc = [34.0689, -118.4452]\n",
    "la_map = folium.Map(location=starting_loc, zoom_start=12)"
   ]
  },
  {
   "cell_type": "code",
   "execution_count": null,
   "metadata": {},
   "outputs": [],
   "source": [
    "for loc, count in not_insta[['coordinates','count']].values:\n",
    "    popup = folium.Popup(str(count), parse_html=True)\n",
    "    folium.Marker(loc, popup=popup, icon=folium.Icon(color='red')).add_to(la_map)\n",
    "for loc, count in insta[['coordinates','count']].values:\n",
    "    popup = folium.Popup(str(count), parse_html=True)\n",
    "    folium.Marker(loc, popup=popup, icon=folium.Icon(color='blue')).add_to(la_map)\n",
    "\n"
   ]
  },
  {
   "cell_type": "code",
   "execution_count": null,
   "metadata": {},
   "outputs": [],
   "source": [
    "la_map"
   ]
  },
  {
   "cell_type": "code",
   "execution_count": null,
   "metadata": {},
   "outputs": [],
   "source": [
    "def parse_geo_from_tweets(tweets):\n",
    "    tweets = pd.DataFrame(tweets)\n",
    "    geo = pd.DataFrame(list(tweets['_id'].values))\n",
    "    geo['count'] = tweets['count']\n",
    "    return geo"
   ]
  },
  {
   "cell_type": "code",
   "execution_count": null,
   "metadata": {
    "scrolled": false
   },
   "outputs": [],
   "source": [
    "cursor = collection_reference.aggregate([\n",
    "    { MATCH : source_is_not_instagram },\n",
    "    { MATCH : nonnull_geo},\n",
    "    group_and_count('$user.id'),\n",
    "    { MATCH : { \"count\" : { \"$gt\" : 1 } } }, \n",
    "    { SORT  : { \"count\" : -1 } },\n",
    "    { LIMIT : 10 }\n",
    "])\n",
    "not_insta_top_users = pd.DataFrame(list(cursor))\n",
    "not_insta_top_users"
   ]
  },
  {
   "cell_type": "code",
   "execution_count": null,
   "metadata": {},
   "outputs": [],
   "source": [
    "cursor = collection_reference.aggregate([\n",
    "    { MATCH : source_is_instagram },\n",
    "    { MATCH : nonnull_geo},\n",
    "    group_and_count('$user.id'),\n",
    "    { MATCH : { \"count\" : { \"$gt\" : 1 } } }, \n",
    "    { SORT  : { \"count\" : -1 } },\n",
    "    { LIMIT : 10 }\n",
    "])\n",
    "insta_top_users = pd.DataFrame(list(cursor))\n",
    "insta_top_users"
   ]
  },
  {
   "cell_type": "code",
   "execution_count": null,
   "metadata": {},
   "outputs": [],
   "source": [
    "not_insta_top_users_ids = not_insta_top_users._id.values\n",
    "insta_top_users_ids = insta_top_users._id.values"
   ]
  },
  {
   "cell_type": "code",
   "execution_count": null,
   "metadata": {},
   "outputs": [],
   "source": [
    "not_insta_top_users_ids_list = list(not_insta_top_users_ids)\n",
    "not_insta_top_users_ids_list = [int(i) for i in not_insta_top_users_ids_list]\n",
    "insta_top_users_ids_list = list(insta_top_users_ids)\n",
    "insta_top_users_ids_list = [int(i) for i in insta_top_users_ids_list]"
   ]
  },
  {
   "cell_type": "code",
   "execution_count": null,
   "metadata": {},
   "outputs": [],
   "source": [
    "def parse_geo_from_tweets(tweets):\n",
    "    tweets = pd.DataFrame(tweets)\n",
    "    tmp = pd.DataFrame(list(tweets['_id'].values))\n",
    "    geo = pd.DataFrame(list(tmp['geo'].values))\n",
    "    geo['user_id'] = tmp['user_id']\n",
    "    geo['count'] = tweets['count']\n",
    "    return geo"
   ]
  },
  {
   "cell_type": "code",
   "execution_count": null,
   "metadata": {
    "scrolled": false
   },
   "outputs": [],
   "source": [
    "cursor = collection_reference.aggregate([\n",
    "    { MATCH : source_is_not_instagram },\n",
    "    { MATCH : nonnull_geo},\n",
    "    { PROJECT : { \"user_id\" : \"$user.id\", \"geo\" : 1, \"text\" : 1, \"_id\" :0 } },\n",
    "    { MATCH : { \"user_id\" : { \"$in\" : not_insta_top_users_ids_list }}},\n",
    "    group_and_count({\"user_id\" : \"$user_id\", \"geo\" : \"$geo\"}),\n",
    "])\n",
    "\n",
    "not_insta_top_user_geo = parse_geo_from_tweets(list(cursor))"
   ]
  },
  {
   "cell_type": "code",
   "execution_count": null,
   "metadata": {},
   "outputs": [],
   "source": [
    "cursor = collection_reference.aggregate([\n",
    "    { MATCH : source_is_instagram },\n",
    "    { MATCH : nonnull_geo},\n",
    "    { PROJECT : { \"user_id\" : \"$user.id\", \"geo\" : 1, \"text\" : 1, \"_id\" :0 } },\n",
    "    { MATCH : { \"user_id\" : { \"$in\" : insta_top_users_ids_list }}},\n",
    "    group_and_count({\"user_id\" : \"$user_id\", \"geo\" : \"$geo\"}),\n",
    "])\n",
    "insta_top_user_geo = parse_geo_from_tweets(list(cursor))"
   ]
  },
  {
   "cell_type": "code",
   "execution_count": null,
   "metadata": {},
   "outputs": [],
   "source": [
    "not_insta_top_user_geo.head()"
   ]
  },
  {
   "cell_type": "code",
   "execution_count": null,
   "metadata": {},
   "outputs": [],
   "source": [
    "insta_top_user_geo.head()"
   ]
  },
  {
   "cell_type": "code",
   "execution_count": null,
   "metadata": {},
   "outputs": [],
   "source": [
    "colors = ['red','blue','green','purple','orange','darkred','lightred','beige','darkblue','darkgreen',]"
   ]
  },
  {
   "cell_type": "code",
   "execution_count": null,
   "metadata": {},
   "outputs": [],
   "source": [
    "not_insta_top_user_geo_top_10 = not_insta_top_user_geo.sort_values('count').head(10)\n",
    "insta_top_user_geo_top_10 = insta_top_user_geo.sort_values('count').head(10)"
   ]
  },
  {
   "cell_type": "code",
   "execution_count": null,
   "metadata": {},
   "outputs": [],
   "source": [
    "insta_top_user_geo_top_10['color'] = colors\n",
    "not_insta_top_user_geo_top_10['color'] = colors"
   ]
  },
  {
   "cell_type": "code",
   "execution_count": null,
   "metadata": {},
   "outputs": [],
   "source": [
    "starting_loc = [34.0689, -118.4452]\n",
    "la_map = folium.Map(location=starting_loc, zoom_start=12)\n",
    "\n",
    "for loc, color, count in insta_top_user_geo_top_10[['coordinates','color','count']].values:\n",
    "    popup = folium.Popup(str(count), parse_html=True)\n",
    "    folium.Marker(loc, popup=popup, icon=folium.Icon(color=color)).add_to(la_map)\n",
    "\n",
    "\n",
    "la_map"
   ]
  },
  {
   "cell_type": "markdown",
   "metadata": {},
   "source": [
    "    760160463833313280 : 'red',\n",
    "    30723561 : 'blue',\n",
    "    613833206 : 'green',\n",
    "    2267807461 : 'purple',\n",
    "    4561143733 : 'orange',\n",
    "    1455659006 : 'darkred',\n",
    "    37016954 : 'lightred',\n",
    "    19640448 : 'beige',\n",
    "    843390093012353024 : 'darkblue',\n",
    "    226456467 : 'darkgreen',"
   ]
  },
  {
   "cell_type": "code",
   "execution_count": null,
   "metadata": {
    "scrolled": false
   },
   "outputs": [],
   "source": [
    "starting_loc = [34.0689, -118.4452]\n",
    "la_map = folium.Map(location=starting_loc, zoom_start=12)\n",
    "\n",
    "for loc, color, count in not_insta_top_user_geo_top_10[['coordinates','color','count']].values:\n",
    "    popup = folium.Popup(str(count), parse_html=True)\n",
    "    folium.Marker(loc, popup=popup, icon=folium.Icon(color=color)).add_to(la_map)\n",
    "\n",
    "\n",
    "la_map"
   ]
  },
  {
   "cell_type": "code",
   "execution_count": null,
   "metadata": {},
   "outputs": [],
   "source": []
  }
 ],
 "metadata": {
  "kernelspec": {
   "display_name": "Python 3",
   "language": "python",
   "name": "python3"
  },
  "language_info": {
   "codemirror_mode": {
    "name": "ipython",
    "version": 3
   },
   "file_extension": ".py",
   "mimetype": "text/x-python",
   "name": "python",
   "nbconvert_exporter": "python",
   "pygments_lexer": "ipython3",
   "version": "3.6.5"
  }
 },
 "nbformat": 4,
 "nbformat_minor": 2
}
