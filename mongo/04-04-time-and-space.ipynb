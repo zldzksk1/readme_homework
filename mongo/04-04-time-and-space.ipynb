{
 "cells": [
  {
   "cell_type": "code",
   "execution_count": 1,
   "metadata": {},
   "outputs": [],
   "source": [
    "!pip install folium --quiet"
   ]
  },
  {
   "cell_type": "code",
   "execution_count": 2,
   "metadata": {},
   "outputs": [],
   "source": [
    "%matplotlib inline"
   ]
  },
  {
   "cell_type": "code",
   "execution_count": 3,
   "metadata": {},
   "outputs": [],
   "source": [
    "import pandas as pd\n",
    "import random\n",
    "\n",
    "from mongo_aggregation_verbs import *\n",
    "\n",
    "from lib import create_mongo_client_to_database_collection\n",
    "\n",
    "collection_reference = create_mongo_client_to_database_collection('twitter', 'tweets')"
   ]
  },
  {
   "cell_type": "code",
   "execution_count": 4,
   "metadata": {},
   "outputs": [
    {
     "data": {
      "text/plain": [
       "16417"
      ]
     },
     "execution_count": 4,
     "metadata": {},
     "output_type": "execute_result"
    }
   ],
   "source": [
    "collection_reference.count_documents({})"
   ]
  },
  {
   "cell_type": "markdown",
   "metadata": {},
   "source": [
    "## Tweets By Day"
   ]
  },
  {
   "cell_type": "code",
   "execution_count": null,
   "metadata": {},
   "outputs": [],
   "source": [
    "datestring_created_at = { \"dateString\" : \"$created_at\"}\n",
    "date_from_string = {\"$dateFromString\" : datestring_created_at }\n",
    "\n",
    "date_to_id = {\n",
    "    PROJECT : {\n",
    "        \"_id\" : 0,\n",
    "        \"year\"  : {\"$year\"       : {\"date\" : date_from_string}},\n",
    "        \"month\" : {\"$month\"      : {\"date\" : date_from_string}},\n",
    "        \"day\"   : {\"$dayOfMonth\" : {\"date\" : date_from_string}},\n",
    "    }\n",
    "}\n",
    "\n",
    "group_by_date = {\n",
    "    GROUP : {\n",
    "        \"tweets\" : { \"$sum\" : 1 },\n",
    "        \"_id\" : {\n",
    "            \"year\"  : \"$year\",\n",
    "            \"month\" : \"$month\",\n",
    "            \"day\"   : \"$day\"\n",
    "        },\n",
    "    }\n",
    "}\n",
    "\n"
   ]
  },
  {
   "cell_type": "code",
   "execution_count": null,
   "metadata": {},
   "outputs": [],
   "source": [
    "def dictionary_to_datestring(x):\n",
    "    month = x['month']\n",
    "    day   = x['day']\n",
    "    year  = x['year']\n",
    "    return \"{}-{}-{}\".format(month, day, year)"
   ]
  },
  {
   "cell_type": "code",
   "execution_count": null,
   "metadata": {},
   "outputs": [],
   "source": [
    "cursor = collection_reference.aggregate([\n",
    "    date_to_id,\n",
    "    group_by_date\n",
    "])\n",
    "\n",
    "daily_tweets = pd.DataFrame(list(cursor))"
   ]
  },
  {
   "cell_type": "code",
   "execution_count": null,
   "metadata": {},
   "outputs": [],
   "source": [
    "daily_tweets"
   ]
  },
  {
   "cell_type": "code",
   "execution_count": null,
   "metadata": {},
   "outputs": [],
   "source": [
    "null_date = {'year': None, 'month': None, 'day': None}"
   ]
  },
  {
   "cell_type": "code",
   "execution_count": null,
   "metadata": {},
   "outputs": [],
   "source": [
    "daily_tweets._id = daily_tweets._id.mask(daily_tweets._id == null_date)"
   ]
  },
  {
   "cell_type": "code",
   "execution_count": null,
   "metadata": {},
   "outputs": [],
   "source": [
    "daily_tweets.dropna(inplace=True)"
   ]
  },
  {
   "cell_type": "code",
   "execution_count": null,
   "metadata": {
    "scrolled": true
   },
   "outputs": [],
   "source": [
    "datestrings = daily_tweets['_id'].apply(dictionary_to_datestring)\n",
    "daily_tweets['date'] = pd.to_datetime(datestrings)\n",
    "\n",
    "daily_tweets.drop('_id', axis=1, inplace=True)\n",
    "daily_tweets.sort_values('date', inplace=True)\n",
    "daily_tweets.set_index('date', inplace=True)\n",
    "daily_tweets.plot()"
   ]
  },
  {
   "cell_type": "markdown",
   "metadata": {},
   "source": [
    "## Tweet Locations"
   ]
  },
  {
   "cell_type": "code",
   "execution_count": null,
   "metadata": {
    "scrolled": false
   },
   "outputs": [],
   "source": [
    "not_null = { '$ne' : None }\n",
    "nonnull_geo = {'geo' : not_null }\n",
    "keep_geo = { 'geo' : 1 }\n",
    "\n",
    "cursor = collection_reference.find(nonnull_geo, keep_geo)\n",
    "collection_reference.count_documents(nonnull_geo)"
   ]
  },
  {
   "cell_type": "code",
   "execution_count": null,
   "metadata": {},
   "outputs": [],
   "source": [
    "geo_tweets = pd.DataFrame(list(cursor))"
   ]
  },
  {
   "cell_type": "code",
   "execution_count": null,
   "metadata": {},
   "outputs": [],
   "source": [
    "list(geo_tweets.head(5)['geo'].values)"
   ]
  },
  {
   "cell_type": "code",
   "execution_count": null,
   "metadata": {},
   "outputs": [],
   "source": [
    "def parse_geo_from_tweets(tweets):\n",
    "    geo = pd.DataFrame(list(tweets['geo'].values))\n",
    "    return geo"
   ]
  },
  {
   "cell_type": "code",
   "execution_count": null,
   "metadata": {},
   "outputs": [],
   "source": [
    "geo = parse_geo_from_tweets(geo_tweets)\n",
    "geo.sample(5)"
   ]
  },
  {
   "cell_type": "code",
   "execution_count": null,
   "metadata": {},
   "outputs": [],
   "source": [
    "import folium\n",
    "starting_loc = [34.0689, -118.4452]\n",
    "la_map = folium.Map(location=starting_loc, zoom_start=13)"
   ]
  },
  {
   "cell_type": "code",
   "execution_count": null,
   "metadata": {},
   "outputs": [],
   "source": [
    "for loc in geo.coordinates:\n",
    "    folium.Marker(loc).add_to(la_map)"
   ]
  },
  {
   "cell_type": "code",
   "execution_count": null,
   "metadata": {
    "scrolled": true
   },
   "outputs": [],
   "source": [
    "la_map"
   ]
  },
  {
   "cell_type": "code",
   "execution_count": null,
   "metadata": {},
   "outputs": [],
   "source": []
  }
 ],
 "metadata": {
  "kernelspec": {
   "display_name": "Python 3",
   "language": "python",
   "name": "python3"
  },
  "language_info": {
   "codemirror_mode": {
    "name": "ipython",
    "version": 3
   },
   "file_extension": ".py",
   "mimetype": "text/x-python",
   "name": "python",
   "nbconvert_exporter": "python",
   "pygments_lexer": "ipython3",
   "version": "3.6.5"
  }
 },
 "nbformat": 4,
 "nbformat_minor": 2
}
