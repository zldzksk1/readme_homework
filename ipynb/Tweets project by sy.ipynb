{
 "cells": [
  {
   "cell_type": "code",
   "execution_count": 9,
   "metadata": {},
   "outputs": [],
   "source": [
    "!pip install boto3 --quiet"
   ]
  },
  {
   "cell_type": "code",
   "execution_count": 10,
   "metadata": {},
   "outputs": [],
   "source": [
    "from lib import create_tweet_iterator"
   ]
  },
  {
   "cell_type": "code",
   "execution_count": 4,
   "metadata": {},
   "outputs": [],
   "source": [
    "CONSUMER_KEY = \"jNQiuHX128wrIEwGNRefUNdCu\"\n",
    "CONSUMER_SECRET = \"jZtWy8x4hU5rfhTPXXFuTEMuKrc6cgzi2mLEYkthPgTYHDiTrr\"\n",
    "ACCESS_TOKEN = \"1019793622953222145-AKiXmsPpBVajjRThKEafxqi8Kv9Zvd\"\n",
    "ACCESS_SECRET = \"PWXH26H61SM44ggxJhYVwlndYP9Qnw6xsv9c3nWdz2ZnS\""
   ]
  },
  {
   "cell_type": "code",
   "execution_count": 11,
   "metadata": {},
   "outputs": [],
   "source": [
    "los_angeles_bbox = \"-118.551346,33.96666,-118.443428,34.05056\""
   ]
  },
  {
   "cell_type": "code",
   "execution_count": 12,
   "metadata": {},
   "outputs": [],
   "source": [
    "from lib import create_tweet_iterator\n",
    "\n",
    "tweet_iterator = create_tweet_iterator(ACCESS_TOKEN, ACCESS_SECRET, CONSUMER_KEY, CONSUMER_SECRET, los_angeles_bbox)"
   ]
  },
  {
   "cell_type": "code",
   "execution_count": 13,
   "metadata": {},
   "outputs": [],
   "source": [
    "tweet = next(tweet_iterator)"
   ]
  },
  {
   "cell_type": "code",
   "execution_count": 16,
   "metadata": {},
   "outputs": [
    {
     "data": {
      "text/plain": [
       "dict_keys(['created_at', 'id', 'id_str', 'text', 'display_text_range', 'source', 'truncated', 'in_reply_to_status_id', 'in_reply_to_status_id_str', 'in_reply_to_user_id', 'in_reply_to_user_id_str', 'in_reply_to_screen_name', 'user', 'geo', 'coordinates', 'place', 'contributors', 'quoted_status_id', 'quoted_status_id_str', 'quoted_status', 'quoted_status_permalink', 'is_quote_status', 'quote_count', 'reply_count', 'retweet_count', 'favorite_count', 'entities', 'favorited', 'retweeted', 'possibly_sensitive', 'filter_level', 'lang', 'timestamp_ms'])"
      ]
     },
     "execution_count": 16,
     "metadata": {},
     "output_type": "execute_result"
    }
   ],
   "source": [
    "tweet.keys()"
   ]
  },
  {
   "cell_type": "code",
   "execution_count": 20,
   "metadata": {},
   "outputs": [
    {
     "data": {
      "text/plain": [
       "'@BlackZack93 🤷🏽\\u200d♀️😂 https://t.co/luk1hFYgtr'"
      ]
     },
     "execution_count": 20,
     "metadata": {},
     "output_type": "execute_result"
    }
   ],
   "source": [
    "tweet['text']"
   ]
  },
  {
   "cell_type": "code",
   "execution_count": 25,
   "metadata": {},
   "outputs": [],
   "source": [
    "tweets = []\n",
    "for i in range(20):\n",
    "    tweet = next(tweet_iterator)\n",
    "    tweets.append(tweet)"
   ]
  },
  {
   "cell_type": "code",
   "execution_count": 26,
   "metadata": {},
   "outputs": [],
   "source": [
    "import json\n",
    "from lib import create_timestamped_filename"
   ]
  },
  {
   "cell_type": "code",
   "execution_count": 27,
   "metadata": {},
   "outputs": [],
   "source": [
    "username = \"sangyun_jacob\"\n",
    "filename = create_timestamped_filename(username)\n",
    "\n",
    "with open(filename, 'w') as outfile:\n",
    "    json.dump(tweets, outfile)"
   ]
  },
  {
   "cell_type": "code",
   "execution_count": 32,
   "metadata": {},
   "outputs": [
    {
     "data": {
      "text/plain": [
       "'tweets-sangyun_jacob-2018-07-24_02-35-06-149229.json'"
      ]
     },
     "execution_count": 32,
     "metadata": {},
     "output_type": "execute_result"
    }
   ],
   "source": [
    "filename"
   ]
  },
  {
   "cell_type": "code",
   "execution_count": 28,
   "metadata": {},
   "outputs": [],
   "source": [
    "from lib import create_boto_client"
   ]
  },
  {
   "cell_type": "code",
   "execution_count": 29,
   "metadata": {},
   "outputs": [],
   "source": [
    "s3_client = create_boto_client()"
   ]
  },
  {
   "cell_type": "code",
   "execution_count": 31,
   "metadata": {},
   "outputs": [],
   "source": [
    "from lib import write_file_to_S3"
   ]
  },
  {
   "cell_type": "code",
   "execution_count": 33,
   "metadata": {},
   "outputs": [],
   "source": [
    "filename = 'tweets-sangyun_jacob-2018-07-24_02-35-06-149229.json'\n",
    "S3_BUCKET = 'uclax-data-science'"
   ]
  },
  {
   "cell_type": "code",
   "execution_count": 34,
   "metadata": {},
   "outputs": [],
   "source": [
    "write_file_to_S3(s3_client, filename, S3_BUCKET)"
   ]
  },
  {
   "cell_type": "code",
   "execution_count": 35,
   "metadata": {},
   "outputs": [
    {
     "data": {
      "text/plain": [
       "['data.json',\n",
       " 'tweets-ChillSimmons-2018-07-24_02-33-28-092154.json',\n",
       " 'tweets-albert-2018-07-24_02-21-19-501738.json',\n",
       " 'tweets-dennissibo-2018-07-24_02-12-06-781711.json',\n",
       " 'tweets-jia-2018-07-24_02-20-18-817448.json',\n",
       " 'tweets-joshua-2018-07-21_14-09-23-363540.json',\n",
       " 'tweets-joshua-2018-07-23_11-22-20-369005.json',\n",
       " 'tweets-joshua-2018-07-23_11-59-41-971097.json',\n",
       " 'tweets-joshua-2018-07-24_02-21-29-011479.json',\n",
       " 'tweets-kristine-2018-07-24_02-21-53-840324.json',\n",
       " 'tweets-liling-2018-07-24_02-31-04-417107.json',\n",
       " 'tweets-mark-2018-07-24_02-37-46-350548.json',\n",
       " 'tweets-mryan-2018-07-24_02-14-02-454519.json',\n",
       " 'tweets-nina-2018-07-24_02-16-10-999671.json',\n",
       " 'tweets-nina-2018-07-24_02-36-32-438954.json',\n",
       " 'tweets-sangyun_jacob-2018-07-24_02-35-06-149229.json',\n",
       " 'tweets-stanley-2018-07-24_02-04-13-008476.json',\n",
       " 'tweets-stanley-2018-07-24_02-22-16-555638.json',\n",
       " 'tweets-stanley-2018-07-24_02-22-54-081139.json',\n",
       " 'tweets-stanley-2018-07-24_02-25-59-012050.json',\n",
       " 'tweets-yan-2018-07-24_02-11-42-466065.json']"
      ]
     },
     "execution_count": 35,
     "metadata": {},
     "output_type": "execute_result"
    }
   ],
   "source": [
    "from lib import list_files_in_S3_bucket\n",
    "S3_BUCKET = 'uclax-data-science'\n",
    "\n",
    "list_files_in_S3_bucket(s3_client, S3_BUCKET)"
   ]
  },
  {
   "cell_type": "code",
   "execution_count": 36,
   "metadata": {},
   "outputs": [],
   "source": [
    "from lib import read_object_from_S3"
   ]
  },
  {
   "cell_type": "code",
   "execution_count": 54,
   "metadata": {},
   "outputs": [],
   "source": [
    "S3_BUCKET = 'uclax-data-science'"
   ]
  },
  {
   "cell_type": "code",
   "execution_count": 55,
   "metadata": {},
   "outputs": [],
   "source": [
    "key = filename"
   ]
  },
  {
   "cell_type": "code",
   "execution_count": 56,
   "metadata": {},
   "outputs": [],
   "source": [
    "tweets_from_s3 = read_object_from_S3(s3_client, key, S3_BUCKET)"
   ]
  },
  {
   "cell_type": "code",
   "execution_count": 58,
   "metadata": {},
   "outputs": [],
   "source": [
    "from lib import create_mongo_client_to_database_collection"
   ]
  },
  {
   "cell_type": "code",
   "execution_count": 60,
   "metadata": {},
   "outputs": [
    {
     "data": {
      "text/plain": [
       "20"
      ]
     },
     "execution_count": 60,
     "metadata": {},
     "output_type": "execute_result"
    }
   ],
   "source": [
    "len(tweets_from_s3)"
   ]
  },
  {
   "cell_type": "code",
   "execution_count": 59,
   "metadata": {},
   "outputs": [
    {
     "data": {
      "text/plain": [
       "<pymongo.results.InsertOneResult at 0x7f299cb5f488>"
      ]
     },
     "execution_count": 59,
     "metadata": {},
     "output_type": "execute_result"
    }
   ],
   "source": [
    "collection_client = create_mongo_client_to_database_collection('twitter','tweets')\n",
    "collection_client.insert_one(tweet)"
   ]
  },
  {
   "cell_type": "code",
   "execution_count": 72,
   "metadata": {},
   "outputs": [],
   "source": [
    "tweet=[]\n",
    "length = len(tweets_from_s3)\n",
    "\n",
    "for i in range(length):\n",
    "    tweet = tweets_from_s3[i]\n",
    "    collection_client.insert_one(tweet)"
   ]
  },
  {
   "cell_type": "code",
   "execution_count": 74,
   "metadata": {},
   "outputs": [],
   "source": [
    "from pymongo.errors import DuplicateKeyError"
   ]
  },
  {
   "cell_type": "code",
   "execution_count": 77,
   "metadata": {},
   "outputs": [],
   "source": [
    "tweets = []\n",
    "try:\n",
    "    for tweet in tweets_from_s3:\n",
    "        collection_client.insert_one(tweet)\n",
    "except DuplicateKeyError:\n",
    "    pass"
   ]
  },
  {
   "cell_type": "code",
   "execution_count": null,
   "metadata": {},
   "outputs": [],
   "source": []
  }
 ],
 "metadata": {
  "kernelspec": {
   "display_name": "Python 3",
   "language": "python",
   "name": "python3"
  },
  "language_info": {
   "codemirror_mode": {
    "name": "ipython",
    "version": 3
   },
   "file_extension": ".py",
   "mimetype": "text/x-python",
   "name": "python",
   "nbconvert_exporter": "python",
   "pygments_lexer": "ipython3",
   "version": "3.6.5"
  }
 },
 "nbformat": 4,
 "nbformat_minor": 2
}
